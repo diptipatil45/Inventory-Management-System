{
  "nbformat": 4,
  "nbformat_minor": 0,
  "metadata": {
    "colab": {
      "name": "product_sales.ipynb",
      "provenance": []
    },
    "kernelspec": {
      "name": "python3",
      "display_name": "Python 3"
    },
    "language_info": {
      "name": "python"
    }
  },
  "cells": [
    {
      "cell_type": "code",
      "metadata": {
        "id": "bIyJpoV2lAnS"
      },
      "source": [
        "import json"
      ],
      "execution_count": 1,
      "outputs": []
    },
    {
      "cell_type": "markdown",
      "metadata": {
        "id": "55lXXIJUmmt2"
      },
      "source": [
        "## **Read Product File**"
      ]
    },
    {
      "cell_type": "code",
      "metadata": {
        "id": "KmuR0Do6lw6q"
      },
      "source": [
        "fd = open(\"record.json\", 'r')\n",
        "r = fd.read()\n",
        "fd.close()\n",
        "\n",
        "record = json.loads(r)"
      ],
      "execution_count": 2,
      "outputs": []
    },
    {
      "cell_type": "code",
      "metadata": {
        "colab": {
          "base_uri": "https://localhost:8080/"
        },
        "id": "9uMPB-xflw9g",
        "outputId": "5e670336-3212-4af5-fbe2-cefa67383117"
      },
      "source": [
        "record"
      ],
      "execution_count": 3,
      "outputs": [
        {
          "output_type": "execute_result",
          "data": {
            "text/plain": [
              "{'1011': {'exp': '10/04/2024',\n",
              "  'mfg': '10/02/2022',\n",
              "  'name': 'Chocolate',\n",
              "  'price': '50',\n",
              "  'quant': '100'},\n",
              " '1012': {'exp': '30/04/2023',\n",
              "  'mfg': '30/04/2021',\n",
              "  'name': 'Peanut Butter',\n",
              "  'price': '80',\n",
              "  'quant': '150'},\n",
              " '1013': {'exp': '24/02/2024',\n",
              "  'mfg': '14/04/2022',\n",
              "  'name': 'Cheese',\n",
              "  'price': '50',\n",
              "  'quant': '150'},\n",
              " '1014': {'exp': '13/07/2023',\n",
              "  'mfg': '13/07/2021',\n",
              "  'name': 'Ketchup',\n",
              "  'price': '40',\n",
              "  'quant': '200'},\n",
              " '1015': {'exp': '19/06/2024',\n",
              "  'mfg': '19/06/2022',\n",
              "  'name': 'Soda',\n",
              "  'price': '20',\n",
              "  'quant': '80'},\n",
              " '1016': {'exp': '10/01/2023',\n",
              "  'mfg': '10/01/2021',\n",
              "  'name': 'Coffee',\n",
              "  'price': '120',\n",
              "  'quant': '95'},\n",
              " '1017': {'exp': '20/02/2023',\n",
              "  'mfg': '20/2/2022',\n",
              "  'name': 'Cupcake',\n",
              "  'price': '40',\n",
              "  'quant': '100'},\n",
              " '1018': {'exp': '28/07/2023',\n",
              "  'mfg': '28/07/2022',\n",
              "  'name': 'Lays',\n",
              "  'price': '15',\n",
              "  'quant': '180'},\n",
              " '1019': {'exp': '30/03/2023',\n",
              "  'mfg': '30/03/2020',\n",
              "  'name': 'Cold Drink',\n",
              "  'price': '35',\n",
              "  'quant': '150'},\n",
              " '1020': {'exp': '01/01/2023',\n",
              "  'mfg': '01/01/2021',\n",
              "  'name': 'Maggie',\n",
              "  'price': '20',\n",
              "  'quant': '250'},\n",
              " '1021': {'exp': '20/09/2023',\n",
              "  'mfg': '20/09/2020',\n",
              "  'name': 'Biscuit',\n",
              "  'price': '15',\n",
              "  'quant': '136'},\n",
              " '1022': {'exp': '18/12/2023',\n",
              "  'mfg': '18/10/2021',\n",
              "  'name': 'Pedigree',\n",
              "  'price': '45',\n",
              "  'quant': '90'},\n",
              " '1023': {'exp': '23/02/2023',\n",
              "  'mfg': '23/02/2021',\n",
              "  'name': 'Muesli',\n",
              "  'price': '50',\n",
              "  'quant': '125'},\n",
              " '1024': {'exp': '15/05/2023',\n",
              "  'mfg': '15/08/2021',\n",
              "  'name': 'Hair Oil',\n",
              "  'price': '60',\n",
              "  'quant': '80'},\n",
              " '1025': {'exp': '30/08/2023',\n",
              "  'mfg': '29/05/2021',\n",
              "  'name': 'Soap',\n",
              "  'price': '45',\n",
              "  'quant': '98'},\n",
              " '1026': {'exp': '22/02/2023',\n",
              "  'mfg': '22/02/2021',\n",
              "  'name': 'Facewash',\n",
              "  'price': '60',\n",
              "  'quant': '85'},\n",
              " '1027': {'exp': '10/09/2023',\n",
              "  'mfg': '10/09/2021',\n",
              "  'name': 'Detergent',\n",
              "  'price': '98',\n",
              "  'quant': '45'},\n",
              " '1028': {'exp': '24/06/2023',\n",
              "  'mfg': '24/05/2020',\n",
              "  'name': 'Shampoo',\n",
              "  'price': '90',\n",
              "  'quant': '90'},\n",
              " '1029': {'exp': '04/02/2023',\n",
              "  'mfg': '04/02/2021',\n",
              "  'name': 'Conditioner',\n",
              "  'price': '85',\n",
              "  'quant': '80'},\n",
              " '1030': {'exp': '20/08/2023',\n",
              "  'mfg': '20/08/2021',\n",
              "  'name': 'sanitizer',\n",
              "  'price': '40',\n",
              "  'quant': '110'},\n",
              " '1031': {'exp': '07/07/2023',\n",
              "  'mfg': '07/07/2021',\n",
              "  'name': 'Handwash',\n",
              "  'price': '70',\n",
              "  'quant': '30'},\n",
              " '1032': {'exp': '21/04/2024',\n",
              "  'mfg': '21/04/2021',\n",
              "  'name': 'Bleach',\n",
              "  'price': '55',\n",
              "  'quant': '60'},\n",
              " '1033': {'exp': '14/09/2023',\n",
              "  'mfg': '14/09/2020',\n",
              "  'name': 'Hit',\n",
              "  'price': '90',\n",
              "  'quant': '25'},\n",
              " '1034': {'exp': '23/08/2023',\n",
              "  'mfg': '23/08/2020',\n",
              "  'name': 'Perfume',\n",
              "  'price': '140',\n",
              "  'quant': '79'},\n",
              " '1035': {'exp': '12/12/2023',\n",
              "  'mfg': '12/12/2021',\n",
              "  'name': 'Sunscreen',\n",
              "  'price': '120',\n",
              "  'quant': '50'},\n",
              " '1036': {'exp': '13/06/2023',\n",
              "  'mfg': '13/06/2021',\n",
              "  'name': 'Facemask',\n",
              "  'price': '40',\n",
              "  'quant': '45'},\n",
              " '1037': {'exp': '23/03/2023',\n",
              "  'mfg': '19/09/2020',\n",
              "  'name': 'Eye Liner',\n",
              "  'price': '99',\n",
              "  'quant': '68'},\n",
              " '1038': {'exp': '18/08/2023',\n",
              "  'mfg': '18/08/2021',\n",
              "  'name': 'Serum',\n",
              "  'price': '79',\n",
              "  'quant': '30'},\n",
              " '1039': {'exp': '16/09/2023',\n",
              "  'mfg': '16/09/2020',\n",
              "  'name': 'Mascara',\n",
              "  'price': '45',\n",
              "  'quant': '80'},\n",
              " '1040': {'exp': '12/11/2024',\n",
              "  'mfg': '12/11/2021',\n",
              "  'name': 'Lotion',\n",
              "  'price': '100',\n",
              "  'quant': '90'}}"
            ]
          },
          "metadata": {},
          "execution_count": 3
        }
      ]
    },
    {
      "cell_type": "markdown",
      "metadata": {
        "id": "Zj-iKQs-mfae"
      },
      "source": [
        "## **User_Purchase**"
      ]
    },
    {
      "cell_type": "code",
      "metadata": {
        "colab": {
          "base_uri": "https://localhost:8080/"
        },
        "id": "tRIDfw8DlxE9",
        "outputId": "555582ed-aac6-4533-b619-3c3a32875dcd"
      },
      "source": [
        "ui_prod  = str(input(\"Enter the product_Id: \"))\n",
        "ui_quant = int(input(\"Enter the quantity: \"))\n",
        "\n",
        "\n",
        "print(\"Product: \", record[ui_prod]['name'])\n",
        "print(\"Price: \", record[ui_prod]['price'])\n",
        "print(\"**********************\")\n",
        "print(\"Billing Amount: \", int(record[ui_prod]['price']) * ui_quant)\n",
        "print(\"***********************\")\n",
        "\n",
        "record[ui_prod]['quant'] = int(record[ui_prod]['quant']) - ui_quant\n"
      ],
      "execution_count": 64,
      "outputs": [
        {
          "output_type": "stream",
          "name": "stdout",
          "text": [
            "Enter the product_Id: 1012\n",
            "Enter the quantity: 5\n",
            "Product:  Peanut Butter\n",
            "Price:  80\n",
            "**********************\n",
            "Billing Amount:  400\n",
            "***********************\n"
          ]
        }
      ]
    },
    {
      "cell_type": "code",
      "metadata": {
        "colab": {
          "base_uri": "https://localhost:8080/"
        },
        "id": "efAwLWzd-L0N",
        "outputId": "a7f0c54d-c401-4a3d-9c00-cafbb74ac002"
      },
      "source": [
        "ui_prod  = str(input(\"Enter the product_Id: \"))\n",
        "ui_quant = int(input(\"Enter the quantity: \"))\n",
        "\n",
        "\n",
        "print(\"Product: \", record[ui_prod]['name'])\n",
        "print(\"Price: \", record[ui_prod]['price'])\n",
        "print(\"**********************\")\n",
        "print(\"Billing Amount: \", int(record[ui_prod]['price']) * ui_quant)\n",
        "print(\"***********************\")\n",
        "\n",
        "record[ui_prod]['quant'] = int(record[ui_prod]['quant']) - ui_quant"
      ],
      "execution_count": 69,
      "outputs": [
        {
          "output_type": "stream",
          "name": "stdout",
          "text": [
            "Enter the product_Id: 1036\n",
            "Enter the quantity: 16\n",
            "Product:  Facemask\n",
            "Price:  40\n",
            "**********************\n",
            "Billing Amount:  640\n",
            "***********************\n"
          ]
        }
      ]
    },
    {
      "cell_type": "code",
      "metadata": {
        "colab": {
          "base_uri": "https://localhost:8080/"
        },
        "id": "ayMUusuW-L2w",
        "outputId": "d82de7a5-e48e-44eb-cba5-1c6bfdf04dce"
      },
      "source": [
        "ui_prod  = str(input(\"Enter the product_Id: \"))\n",
        "ui_quant = int(input(\"Enter the quantity: \"))\n",
        "\n",
        "\n",
        "print(\"Product: \", record[ui_prod]['name'])\n",
        "print(\"Price: \", record[ui_prod]['price'])\n",
        "print(\"**********************\")\n",
        "print(\"Billing Amount: \", int(record[ui_prod]['price']) * ui_quant)\n",
        "print(\"***********************\")\n",
        "\n",
        "record[ui_prod]['quant'] = int(record[ui_prod]['quant']) - ui_quant"
      ],
      "execution_count": 70,
      "outputs": [
        {
          "output_type": "stream",
          "name": "stdout",
          "text": [
            "Enter the product_Id: 1020\n",
            "Enter the quantity: 75\n",
            "Product:  Maggie\n",
            "Price:  20\n",
            "**********************\n",
            "Billing Amount:  1500\n",
            "***********************\n"
          ]
        }
      ]
    },
    {
      "cell_type": "code",
      "metadata": {
        "colab": {
          "base_uri": "https://localhost:8080/"
        },
        "id": "dabDCunB-L7t",
        "outputId": "ef1660d9-da98-4d59-a81f-7777fcb76d51"
      },
      "source": [
        "ui_prod  = str(input(\"Enter the product_Id: \"))\n",
        "ui_quant = int(input(\"Enter the quantity: \"))\n",
        "\n",
        "\n",
        "print(\"Product: \", record[ui_prod]['name'])\n",
        "print(\"Price: \", record[ui_prod]['price'])\n",
        "print(\"**********************\")\n",
        "print(\"Billing Amount: \", int(record[ui_prod]['price']) * ui_quant)\n",
        "print(\"***********************\")\n",
        "\n",
        "record[ui_prod]['quant'] = int(record[ui_prod]['quant']) - ui_quant"
      ],
      "execution_count": 71,
      "outputs": [
        {
          "output_type": "stream",
          "name": "stdout",
          "text": [
            "Enter the product_Id: 1039\n",
            "Enter the quantity: 6\n",
            "Product:  Mascara\n",
            "Price:  45\n",
            "**********************\n",
            "Billing Amount:  270\n",
            "***********************\n"
          ]
        }
      ]
    },
    {
      "cell_type": "code",
      "metadata": {
        "colab": {
          "base_uri": "https://localhost:8080/"
        },
        "id": "fb-WROnF-L-I",
        "outputId": "b34e7a60-7f94-4de6-90a1-b8cc816bfdd2"
      },
      "source": [
        "ui_prod  = str(input(\"Enter the product_Id: \"))\n",
        "ui_quant = int(input(\"Enter the quantity: \"))\n",
        "\n",
        "\n",
        "print(\"Product: \", record[ui_prod]['name'])\n",
        "print(\"Price: \", record[ui_prod]['price'])\n",
        "print(\"**********************\")\n",
        "print(\"Billing Amount: \", int(record[ui_prod]['price']) * ui_quant)\n",
        "print(\"***********************\")\n",
        "\n",
        "record[ui_prod]['quant'] = int(record[ui_prod]['quant']) - ui_quant"
      ],
      "execution_count": 72,
      "outputs": [
        {
          "output_type": "stream",
          "name": "stdout",
          "text": [
            "Enter the product_Id: 1015\n",
            "Enter the quantity: 30\n",
            "Product:  Soda\n",
            "Price:  20\n",
            "**********************\n",
            "Billing Amount:  600\n",
            "***********************\n"
          ]
        }
      ]
    },
    {
      "cell_type": "code",
      "metadata": {
        "colab": {
          "base_uri": "https://localhost:8080/"
        },
        "id": "BVX_bwle-MCh",
        "outputId": "f796c77b-7a1a-4c83-cc52-6181ba5469e6"
      },
      "source": [
        "ui_prod  = str(input(\"Enter the product_Id: \"))\n",
        "ui_quant = int(input(\"Enter the quantity: \"))\n",
        "\n",
        "\n",
        "print(\"Product: \", record[ui_prod]['name'])\n",
        "print(\"Price: \", record[ui_prod]['price'])\n",
        "print(\"**********************\")\n",
        "print(\"Billing Amount: \", int(record[ui_prod]['price']) * ui_quant)\n",
        "print(\"***********************\")\n",
        "\n",
        "record[ui_prod]['quant'] = int(record[ui_prod]['quant']) - ui_quant"
      ],
      "execution_count": 73,
      "outputs": [
        {
          "output_type": "stream",
          "name": "stdout",
          "text": [
            "Enter the product_Id: 1021\n",
            "Enter the quantity: 36\n",
            "Product:  Biscuit\n",
            "Price:  15\n",
            "**********************\n",
            "Billing Amount:  540\n",
            "***********************\n"
          ]
        }
      ]
    },
    {
      "cell_type": "code",
      "metadata": {
        "colab": {
          "base_uri": "https://localhost:8080/"
        },
        "id": "n8nGkKFy-MFY",
        "outputId": "942e6142-fe25-4d6d-ab8e-16ca0d1fd334"
      },
      "source": [
        "ui_prod  = str(input(\"Enter the product_Id: \"))\n",
        "ui_quant = int(input(\"Enter the quantity: \"))\n",
        "\n",
        "\n",
        "print(\"Product: \", record[ui_prod]['name'])\n",
        "print(\"Price: \", record[ui_prod]['price'])\n",
        "print(\"**********************\")\n",
        "print(\"Billing Amount: \", int(record[ui_prod]['price']) * ui_quant)\n",
        "print(\"***********************\")\n",
        "\n",
        "record[ui_prod]['quant'] = int(record[ui_prod]['quant']) - ui_quant"
      ],
      "execution_count": 74,
      "outputs": [
        {
          "output_type": "stream",
          "name": "stdout",
          "text": [
            "Enter the product_Id: 1023\n",
            "Enter the quantity: 50\n",
            "Product:  Muesli\n",
            "Price:  50\n",
            "**********************\n",
            "Billing Amount:  2500\n",
            "***********************\n"
          ]
        }
      ]
    },
    {
      "cell_type": "code",
      "metadata": {
        "colab": {
          "base_uri": "https://localhost:8080/"
        },
        "id": "ATe3kOBp-MJQ",
        "outputId": "156c976a-476d-4a56-b77e-092fbb46557c"
      },
      "source": [
        "ui_prod  = str(input(\"Enter the product_Id: \"))\n",
        "ui_quant = int(input(\"Enter the quantity: \"))\n",
        "\n",
        "\n",
        "print(\"Product: \", record[ui_prod]['name'])\n",
        "print(\"Price: \", record[ui_prod]['price'])\n",
        "print(\"**********************\")\n",
        "print(\"Billing Amount: \", int(record[ui_prod]['price']) * ui_quant)\n",
        "print(\"***********************\")\n",
        "\n",
        "record[ui_prod]['quant'] = int(record[ui_prod]['quant']) - ui_quant"
      ],
      "execution_count": 78,
      "outputs": [
        {
          "output_type": "stream",
          "name": "stdout",
          "text": [
            "Enter the product_Id: 1028\n",
            "Enter the quantity: 15\n",
            "Product:  Shampoo\n",
            "Price:  90\n",
            "**********************\n",
            "Billing Amount:  1350\n",
            "***********************\n"
          ]
        }
      ]
    },
    {
      "cell_type": "code",
      "metadata": {
        "colab": {
          "base_uri": "https://localhost:8080/"
        },
        "id": "h3qI7kLRtczQ",
        "outputId": "50c3d3cd-899b-44ec-bd2d-3394926841ad"
      },
      "source": [
        "record"
      ],
      "execution_count": 79,
      "outputs": [
        {
          "output_type": "execute_result",
          "data": {
            "text/plain": [
              "{'1011': {'exp': '10/04/2024',\n",
              "  'mfg': '10/02/2022',\n",
              "  'name': 'Chocolate',\n",
              "  'price': '50',\n",
              "  'quant': 60},\n",
              " '1012': {'exp': '30/04/2023',\n",
              "  'mfg': '30/04/2021',\n",
              "  'name': 'Peanut Butter',\n",
              "  'price': '80',\n",
              "  'quant': 135},\n",
              " '1013': {'exp': '24/02/2024',\n",
              "  'mfg': '14/04/2022',\n",
              "  'name': 'Cheese',\n",
              "  'price': '50',\n",
              "  'quant': '150'},\n",
              " '1014': {'exp': '13/07/2023',\n",
              "  'mfg': '13/07/2021',\n",
              "  'name': 'Ketchup',\n",
              "  'price': '40',\n",
              "  'quant': '200'},\n",
              " '1015': {'exp': '19/06/2024',\n",
              "  'mfg': '19/06/2022',\n",
              "  'name': 'Soda',\n",
              "  'price': '20',\n",
              "  'quant': 50},\n",
              " '1016': {'exp': '10/01/2023',\n",
              "  'mfg': '10/01/2021',\n",
              "  'name': 'Coffee',\n",
              "  'price': '120',\n",
              "  'quant': 90},\n",
              " '1017': {'exp': '20/02/2023',\n",
              "  'mfg': '20/2/2022',\n",
              "  'name': 'Cupcake',\n",
              "  'price': '40',\n",
              "  'quant': '100'},\n",
              " '1018': {'exp': '28/07/2023',\n",
              "  'mfg': '28/07/2022',\n",
              "  'name': 'Lays',\n",
              "  'price': '15',\n",
              "  'quant': 150},\n",
              " '1019': {'exp': '30/03/2023',\n",
              "  'mfg': '30/03/2020',\n",
              "  'name': 'Cold Drink',\n",
              "  'price': '35',\n",
              "  'quant': '150'},\n",
              " '1020': {'exp': '01/01/2023',\n",
              "  'mfg': '01/01/2021',\n",
              "  'name': 'Maggie',\n",
              "  'price': '20',\n",
              "  'quant': 175},\n",
              " '1021': {'exp': '20/09/2023',\n",
              "  'mfg': '20/09/2020',\n",
              "  'name': 'Biscuit',\n",
              "  'price': '15',\n",
              "  'quant': 100},\n",
              " '1022': {'exp': '18/12/2023',\n",
              "  'mfg': '18/10/2021',\n",
              "  'name': 'Pedigree',\n",
              "  'price': '45',\n",
              "  'quant': '90'},\n",
              " '1023': {'exp': '23/02/2023',\n",
              "  'mfg': '23/02/2021',\n",
              "  'name': 'Muesli',\n",
              "  'price': '50',\n",
              "  'quant': 75},\n",
              " '1024': {'exp': '15/05/2023',\n",
              "  'mfg': '15/08/2021',\n",
              "  'name': 'Hair Oil',\n",
              "  'price': '60',\n",
              "  'quant': '80'},\n",
              " '1025': {'exp': '30/08/2023',\n",
              "  'mfg': '29/05/2021',\n",
              "  'name': 'Soap',\n",
              "  'price': '45',\n",
              "  'quant': 83},\n",
              " '1026': {'exp': '22/02/2023',\n",
              "  'mfg': '22/02/2021',\n",
              "  'name': 'Facewash',\n",
              "  'price': '60',\n",
              "  'quant': '85'},\n",
              " '1027': {'exp': '10/09/2023',\n",
              "  'mfg': '10/09/2021',\n",
              "  'name': 'Detergent',\n",
              "  'price': '98',\n",
              "  'quant': '45'},\n",
              " '1028': {'exp': '24/06/2023',\n",
              "  'mfg': '24/05/2020',\n",
              "  'name': 'Shampoo',\n",
              "  'price': '90',\n",
              "  'quant': 75},\n",
              " '1029': {'exp': '04/02/2023',\n",
              "  'mfg': '04/02/2021',\n",
              "  'name': 'Conditioner',\n",
              "  'price': '85',\n",
              "  'quant': '80'},\n",
              " '1030': {'exp': '20/08/2023',\n",
              "  'mfg': '20/08/2021',\n",
              "  'name': 'sanitizer',\n",
              "  'price': '40',\n",
              "  'quant': 80},\n",
              " '1031': {'exp': '07/07/2023',\n",
              "  'mfg': '07/07/2021',\n",
              "  'name': 'Handwash',\n",
              "  'price': '70',\n",
              "  'quant': '30'},\n",
              " '1032': {'exp': '21/04/2024',\n",
              "  'mfg': '21/04/2021',\n",
              "  'name': 'Bleach',\n",
              "  'price': '55',\n",
              "  'quant': '60'},\n",
              " '1033': {'exp': '14/09/2023',\n",
              "  'mfg': '14/09/2020',\n",
              "  'name': 'Hit',\n",
              "  'price': '90',\n",
              "  'quant': '25'},\n",
              " '1034': {'exp': '23/08/2023',\n",
              "  'mfg': '23/08/2020',\n",
              "  'name': 'Perfume',\n",
              "  'price': '140',\n",
              "  'quant': '79'},\n",
              " '1035': {'exp': '12/12/2023',\n",
              "  'mfg': '12/12/2021',\n",
              "  'name': 'Sunscreen',\n",
              "  'price': '120',\n",
              "  'quant': '50'},\n",
              " '1036': {'exp': '13/06/2023',\n",
              "  'mfg': '13/06/2021',\n",
              "  'name': 'Facemask',\n",
              "  'price': '40',\n",
              "  'quant': 29},\n",
              " '1037': {'exp': '23/03/2023',\n",
              "  'mfg': '19/09/2020',\n",
              "  'name': 'Eye Liner',\n",
              "  'price': '99',\n",
              "  'quant': '68'},\n",
              " '1038': {'exp': '18/08/2023',\n",
              "  'mfg': '18/08/2021',\n",
              "  'name': 'Serum',\n",
              "  'price': '79',\n",
              "  'quant': '30'},\n",
              " '1039': {'exp': '16/09/2023',\n",
              "  'mfg': '16/09/2020',\n",
              "  'name': 'Mascara',\n",
              "  'price': '45',\n",
              "  'quant': 74},\n",
              " '1040': {'exp': '12/11/2024',\n",
              "  'mfg': '12/11/2021',\n",
              "  'name': 'Lotion',\n",
              "  'price': '100',\n",
              "  'quant': '90'}}"
            ]
          },
          "metadata": {},
          "execution_count": 79
        }
      ]
    },
    {
      "cell_type": "markdown",
      "metadata": {
        "id": "aRUFiNg718hC"
      },
      "source": [
        "**Update Inventory After Purchase**"
      ]
    },
    {
      "cell_type": "code",
      "metadata": {
        "id": "Lj5YftPH2LY9"
      },
      "source": [
        "js = json.dumps(record)\n",
        "\n",
        "fd = open(\"record.json\",'w')\n",
        "fd.write(js)\n",
        "fd.close()"
      ],
      "execution_count": 66,
      "outputs": []
    },
    {
      "cell_type": "markdown",
      "metadata": {
        "id": "L523duNj2fTj"
      },
      "source": [
        "**Generate Sale JSON**"
      ]
    },
    {
      "cell_type": "code",
      "metadata": {
        "id": "TnnXYRaltc2Q"
      },
      "source": [
        "sales[len(sales) + 1] : {'Product name' : ui_prod, 'quant' : ui_quant, 'Billing_amount': int(record[ui_prod]['price']) * ui_quant}\n",
        "\n",
        "sale = json.dumps(sales)"
      ],
      "execution_count": 81,
      "outputs": []
    },
    {
      "cell_type": "code",
      "metadata": {
        "colab": {
          "base_uri": "https://localhost:8080/",
          "height": 52
        },
        "id": "sTxSxVj_9PME",
        "outputId": "2a873ff1-b52b-46dd-acaf-25596e6fb9b3"
      },
      "source": [
        "sale"
      ],
      "execution_count": 80,
      "outputs": [
        {
          "output_type": "execute_result",
          "data": {
            "application/vnd.google.colaboratory.intrinsic+json": {
              "type": "string"
            },
            "text/plain": [
              "'{\"1\": {\"Product name\": \"1011\", \"quant\": 10, \"amount\": 500}, \"2\": {\"Product name\": \"1011\", \"quant\": 10, \"amount\": 500}, \"3\": {\"Product name\": \"1011\", \"quant\": 10, \"amount\": 500}, \"4\": {\"Product name\": \"1011\", \"quant\": 10, \"amount\": 500}}'"
            ]
          },
          "metadata": {},
          "execution_count": 80
        }
      ]
    }
  ]
}