{
  "nbformat": 4,
  "nbformat_minor": 0,
  "metadata": {
    "colab": {
      "name": "new_product.ipynb",
      "provenance": []
    },
    "kernelspec": {
      "name": "python3",
      "display_name": "Python 3"
    },
    "language_info": {
      "name": "python"
    }
  },
  "cells": [
    {
      "cell_type": "code",
      "metadata": {
        "id": "KVivTmGFZjRt"
      },
      "source": [
        "import json"
      ],
      "execution_count": 1,
      "outputs": []
    },
    {
      "cell_type": "markdown",
      "metadata": {
        "id": "5tc5GFK_rjpR"
      },
      "source": [
        "**Read the file**"
      ]
    },
    {
      "cell_type": "code",
      "metadata": {
        "id": "PzJW55_nZsWp"
      },
      "source": [
        "fd = open(\"record.json\", 'r')\n",
        "r = fd.read()\n",
        "fd.close()\n",
        "\n",
        "record = json.loads(r)"
      ],
      "execution_count": 2,
      "outputs": []
    },
    {
      "cell_type": "code",
      "metadata": {
        "colab": {
          "base_uri": "https://localhost:8080/"
        },
        "id": "LnsOmGQUZsYq",
        "outputId": "6fd8fac3-660f-4d2a-82d1-1f34b3a421fb"
      },
      "source": [
        "record"
      ],
      "execution_count": 3,
      "outputs": [
        {
          "output_type": "execute_result",
          "data": {
            "text/plain": [
              "{'1001': {'name': 'Choco Cake', 'pr': 100, 'qn': 34},\n",
              " '1002': {'name': 'Milk Cake', 'pr': 800, 'qn': 100},\n",
              " '1003': {'name': 'Drink', 'pr': 85, 'qn': 100},\n",
              " '1004': {'name': 'Candy', 'pr': 5, 'qn': 1000},\n",
              " '1005': {'name': 'Pen', 'pr': 20, 'qn': 100},\n",
              " '1006': {'name': 'Phone', 'pr': 50000, 'qn': 10},\n",
              " '1007': {'name': 'Mic', 'pr': 1500, 'qn': 0},\n",
              " '1008': {'name': 'Case', 'pr': 599, 'qn': 5},\n",
              " '1009': {'name': 'Keyboard', 'pr': 1999, 'qn': 10}}"
            ]
          },
          "metadata": {},
          "execution_count": 3
        }
      ]
    },
    {
      "cell_type": "markdown",
      "metadata": {
        "id": "0e8Gk6-arwBI"
      },
      "source": [
        "**Add New Products to Inventory**"
      ]
    },
    {
      "cell_type": "code",
      "metadata": {
        "colab": {
          "base_uri": "https://localhost:8080/"
        },
        "id": "JnvcPXddZshD",
        "outputId": "a358acd2-6c2d-4570-bb5d-e0611caa1361"
      },
      "source": [
        "prod_id = str(input(\"Enter Product Id:\"))\n",
        "name = str(input(\"Enter Product Name:\"))\n",
        "mfg = str(input(\"Enter Product Manufacturing Date:\"))\n",
        "exp = str(input(\"Enter Product Expiry Date:\"))\n",
        "price = str(input(\"Enter Product Price:\"))\n",
        "quant = str(input(\"Enter Product Quantity:\"))\n",
        "\n",
        "record[prod_id] = {'name' : name, 'mfg' : mfg, 'exp' : exp, 'price' : price, 'quant' : quant }\n",
        "\n",
        "js = json.dumps(record)\n",
        "\n",
        "fd = open(\"record.json\", 'w')\n",
        "fd.write(js)\n",
        "fd.close()\n"
      ],
      "execution_count": 52,
      "outputs": [
        {
          "name": "stdout",
          "output_type": "stream",
          "text": [
            "Enter Product Id:1040\n",
            "Enter Product Name:Lotion\n",
            "Enter Product Manufacturing Date:12/11/2021\n",
            "Enter Product Expiry Date:12/11/2024\n",
            "Enter Product Price:100\n",
            "Enter Product Quantity:90\n"
          ]
        }
      ]
    },
    {
      "cell_type": "code",
      "metadata": {
        "colab": {
          "base_uri": "https://localhost:8080/"
        },
        "id": "t6icr6xnZsjo",
        "outputId": "8864d641-6955-4218-f6b5-609282b8f711"
      },
      "source": [
        "record"
      ],
      "execution_count": 53,
      "outputs": [
        {
          "output_type": "execute_result",
          "data": {
            "text/plain": [
              "{'1011': {'exp': '10/04/2024',\n",
              "  'mfg': '10/02/2022',\n",
              "  'name': 'Chocolate',\n",
              "  'price': '50',\n",
              "  'quant': '100'},\n",
              " '1012': {'exp': '30/04/2023',\n",
              "  'mfg': '30/04/2021',\n",
              "  'name': 'Peanut Butter',\n",
              "  'price': '80',\n",
              "  'quant': '150'},\n",
              " '1013': {'exp': '24/02/2024',\n",
              "  'mfg': '14/04/2022',\n",
              "  'name': 'Cheese',\n",
              "  'price': '50',\n",
              "  'quant': '150'},\n",
              " '1014': {'exp': '13/07/2023',\n",
              "  'mfg': '13/07/2021',\n",
              "  'name': 'Ketchup',\n",
              "  'price': '40',\n",
              "  'quant': '200'},\n",
              " '1015': {'exp': '19/06/2024',\n",
              "  'mfg': '19/06/2022',\n",
              "  'name': 'Soda',\n",
              "  'price': '20',\n",
              "  'quant': '80'},\n",
              " '1016': {'exp': '10/01/2023',\n",
              "  'mfg': '10/01/2021',\n",
              "  'name': 'Coffee',\n",
              "  'price': '120',\n",
              "  'quant': '95'},\n",
              " '1017': {'exp': '20/02/2023',\n",
              "  'mfg': '20/2/2022',\n",
              "  'name': 'Cupcake',\n",
              "  'price': '40',\n",
              "  'quant': '100'},\n",
              " '1018': {'exp': '28/07/2023',\n",
              "  'mfg': '28/07/2022',\n",
              "  'name': 'Lays',\n",
              "  'price': '15',\n",
              "  'quant': '180'},\n",
              " '1019': {'exp': '30/03/2023',\n",
              "  'mfg': '30/03/2020',\n",
              "  'name': 'Cold Drink',\n",
              "  'price': '35',\n",
              "  'quant': '150'},\n",
              " '1020': {'exp': '01/01/2023',\n",
              "  'mfg': '01/01/2021',\n",
              "  'name': 'Maggie',\n",
              "  'price': '20',\n",
              "  'quant': '250'},\n",
              " '1021': {'exp': '20/09/2023',\n",
              "  'mfg': '20/09/2020',\n",
              "  'name': 'Biscuit',\n",
              "  'price': '15',\n",
              "  'quant': '136'},\n",
              " '1022': {'exp': '18/12/2023',\n",
              "  'mfg': '18/10/2021',\n",
              "  'name': 'Pedigree',\n",
              "  'price': '45',\n",
              "  'quant': '90'},\n",
              " '1023': {'exp': '23/02/2023',\n",
              "  'mfg': '23/02/2021',\n",
              "  'name': 'Muesli',\n",
              "  'price': '50',\n",
              "  'quant': '125'},\n",
              " '1024': {'exp': '15/05/2023',\n",
              "  'mfg': '15/08/2021',\n",
              "  'name': 'Hair Oil',\n",
              "  'price': '60',\n",
              "  'quant': '80'},\n",
              " '1025': {'exp': '30/08/2023',\n",
              "  'mfg': '29/05/2021',\n",
              "  'name': 'Soap',\n",
              "  'price': '45',\n",
              "  'quant': '98'},\n",
              " '1026': {'exp': '22/02/2023',\n",
              "  'mfg': '22/02/2021',\n",
              "  'name': 'Facewash',\n",
              "  'price': '60',\n",
              "  'quant': '85'},\n",
              " '1027': {'exp': '10/09/2023',\n",
              "  'mfg': '10/09/2021',\n",
              "  'name': 'Detergent',\n",
              "  'price': '98',\n",
              "  'quant': '45'},\n",
              " '1028': {'exp': '24/06/2023',\n",
              "  'mfg': '24/05/2020',\n",
              "  'name': 'Shampoo',\n",
              "  'price': '90',\n",
              "  'quant': '90'},\n",
              " '1029': {'exp': '04/02/2023',\n",
              "  'mfg': '04/02/2021',\n",
              "  'name': 'Conditioner',\n",
              "  'price': '85',\n",
              "  'quant': '80'},\n",
              " '1030': {'exp': '20/08/2023',\n",
              "  'mfg': '20/08/2021',\n",
              "  'name': 'sanitizer',\n",
              "  'price': '40',\n",
              "  'quant': '110'},\n",
              " '1031': {'exp': '07/07/2023',\n",
              "  'mfg': '07/07/2021',\n",
              "  'name': 'Handwash',\n",
              "  'price': '70',\n",
              "  'quant': '30'},\n",
              " '1032': {'exp': '21/04/2024',\n",
              "  'mfg': '21/04/2021',\n",
              "  'name': 'Bleach',\n",
              "  'price': '55',\n",
              "  'quant': '60'},\n",
              " '1033': {'exp': '14/09/2023',\n",
              "  'mfg': '14/09/2020',\n",
              "  'name': 'Hit',\n",
              "  'price': '90',\n",
              "  'quant': '25'},\n",
              " '1034': {'exp': '23/08/2023',\n",
              "  'mfg': '23/08/2020',\n",
              "  'name': 'Perfume',\n",
              "  'price': '140',\n",
              "  'quant': '79'},\n",
              " '1035': {'exp': '12/12/2023',\n",
              "  'mfg': '12/12/2021',\n",
              "  'name': 'Sunscreen',\n",
              "  'price': '120',\n",
              "  'quant': '50'},\n",
              " '1036': {'exp': '13/06/2023',\n",
              "  'mfg': '13/06/2021',\n",
              "  'name': 'Facemask',\n",
              "  'price': '40',\n",
              "  'quant': '45'},\n",
              " '1037': {'exp': '23/03/2023',\n",
              "  'mfg': '19/09/2020',\n",
              "  'name': 'Eye Liner',\n",
              "  'price': '99',\n",
              "  'quant': '68'},\n",
              " '1038': {'exp': '18/08/2023',\n",
              "  'mfg': '18/08/2021',\n",
              "  'name': 'Serum',\n",
              "  'price': '79',\n",
              "  'quant': '30'},\n",
              " '1039': {'exp': '16/09/2023',\n",
              "  'mfg': '16/09/2020',\n",
              "  'name': 'Mascara',\n",
              "  'price': '45',\n",
              "  'quant': '80'},\n",
              " '1040': {'exp': '12/11/2024',\n",
              "  'mfg': '12/11/2021',\n",
              "  'name': 'Lotion',\n",
              "  'price': '100',\n",
              "  'quant': '90'}}"
            ]
          },
          "metadata": {},
          "execution_count": 53
        }
      ]
    },
    {
      "cell_type": "markdown",
      "metadata": {
        "id": "BvILByTKsGo5"
      },
      "source": [
        "**Delete Previously Existing Products**"
      ]
    },
    {
      "cell_type": "code",
      "metadata": {
        "id": "I9ui3MY0Zslt"
      },
      "source": [
        "del record['1001']"
      ],
      "execution_count": 8,
      "outputs": []
    },
    {
      "cell_type": "code",
      "metadata": {
        "id": "kppFHMIVZsou"
      },
      "source": [
        "del record['1002']"
      ],
      "execution_count": 9,
      "outputs": []
    },
    {
      "cell_type": "code",
      "metadata": {
        "id": "rT2CW0hZa2u-"
      },
      "source": [
        "del record['1004']"
      ],
      "execution_count": 11,
      "outputs": []
    },
    {
      "cell_type": "code",
      "metadata": {
        "colab": {
          "base_uri": "https://localhost:8080/"
        },
        "id": "WA-9jbMWa2yu",
        "outputId": "b47f03af-98cf-410d-e701-ad2134b5e3c1"
      },
      "source": [
        "record"
      ],
      "execution_count": 12,
      "outputs": [
        {
          "output_type": "execute_result",
          "data": {
            "text/plain": [
              "{'1005': {'name': 'Pen', 'pr': 20, 'qn': 100},\n",
              " '1006': {'name': 'Phone', 'pr': 50000, 'qn': 10},\n",
              " '1007': {'name': 'Mic', 'pr': 1500, 'qn': 0},\n",
              " '1008': {'name': 'Case', 'pr': 599, 'qn': 5},\n",
              " '1009': {'name': 'Keyboard', 'pr': 1999, 'qn': 10},\n",
              " '1011': {'exp': '10/04/2024',\n",
              "  'mfg': '10/02/2022',\n",
              "  'name': 'Chocolate',\n",
              "  'price': '50',\n",
              "  'quant': '100'}}"
            ]
          },
          "metadata": {},
          "execution_count": 12
        }
      ]
    },
    {
      "cell_type": "code",
      "metadata": {
        "id": "zO3O8oSya21P"
      },
      "source": [
        "del record['1009']"
      ],
      "execution_count": 18,
      "outputs": []
    },
    {
      "cell_type": "code",
      "metadata": {
        "colab": {
          "base_uri": "https://localhost:8080/"
        },
        "id": "TU5Hvts3dN9a",
        "outputId": "e716453a-1b27-4af5-9b6a-ae0cf1f36572"
      },
      "source": [
        "record"
      ],
      "execution_count": 54,
      "outputs": [
        {
          "output_type": "execute_result",
          "data": {
            "text/plain": [
              "{'1011': {'exp': '10/04/2024',\n",
              "  'mfg': '10/02/2022',\n",
              "  'name': 'Chocolate',\n",
              "  'price': '50',\n",
              "  'quant': '100'},\n",
              " '1012': {'exp': '30/04/2023',\n",
              "  'mfg': '30/04/2021',\n",
              "  'name': 'Peanut Butter',\n",
              "  'price': '80',\n",
              "  'quant': '150'},\n",
              " '1013': {'exp': '24/02/2024',\n",
              "  'mfg': '14/04/2022',\n",
              "  'name': 'Cheese',\n",
              "  'price': '50',\n",
              "  'quant': '150'},\n",
              " '1014': {'exp': '13/07/2023',\n",
              "  'mfg': '13/07/2021',\n",
              "  'name': 'Ketchup',\n",
              "  'price': '40',\n",
              "  'quant': '200'},\n",
              " '1015': {'exp': '19/06/2024',\n",
              "  'mfg': '19/06/2022',\n",
              "  'name': 'Soda',\n",
              "  'price': '20',\n",
              "  'quant': '80'},\n",
              " '1016': {'exp': '10/01/2023',\n",
              "  'mfg': '10/01/2021',\n",
              "  'name': 'Coffee',\n",
              "  'price': '120',\n",
              "  'quant': '95'},\n",
              " '1017': {'exp': '20/02/2023',\n",
              "  'mfg': '20/2/2022',\n",
              "  'name': 'Cupcake',\n",
              "  'price': '40',\n",
              "  'quant': '100'},\n",
              " '1018': {'exp': '28/07/2023',\n",
              "  'mfg': '28/07/2022',\n",
              "  'name': 'Lays',\n",
              "  'price': '15',\n",
              "  'quant': '180'},\n",
              " '1019': {'exp': '30/03/2023',\n",
              "  'mfg': '30/03/2020',\n",
              "  'name': 'Cold Drink',\n",
              "  'price': '35',\n",
              "  'quant': '150'},\n",
              " '1020': {'exp': '01/01/2023',\n",
              "  'mfg': '01/01/2021',\n",
              "  'name': 'Maggie',\n",
              "  'price': '20',\n",
              "  'quant': '250'},\n",
              " '1021': {'exp': '20/09/2023',\n",
              "  'mfg': '20/09/2020',\n",
              "  'name': 'Biscuit',\n",
              "  'price': '15',\n",
              "  'quant': '136'},\n",
              " '1022': {'exp': '18/12/2023',\n",
              "  'mfg': '18/10/2021',\n",
              "  'name': 'Pedigree',\n",
              "  'price': '45',\n",
              "  'quant': '90'},\n",
              " '1023': {'exp': '23/02/2023',\n",
              "  'mfg': '23/02/2021',\n",
              "  'name': 'Muesli',\n",
              "  'price': '50',\n",
              "  'quant': '125'},\n",
              " '1024': {'exp': '15/05/2023',\n",
              "  'mfg': '15/08/2021',\n",
              "  'name': 'Hair Oil',\n",
              "  'price': '60',\n",
              "  'quant': '80'},\n",
              " '1025': {'exp': '30/08/2023',\n",
              "  'mfg': '29/05/2021',\n",
              "  'name': 'Soap',\n",
              "  'price': '45',\n",
              "  'quant': '98'},\n",
              " '1026': {'exp': '22/02/2023',\n",
              "  'mfg': '22/02/2021',\n",
              "  'name': 'Facewash',\n",
              "  'price': '60',\n",
              "  'quant': '85'},\n",
              " '1027': {'exp': '10/09/2023',\n",
              "  'mfg': '10/09/2021',\n",
              "  'name': 'Detergent',\n",
              "  'price': '98',\n",
              "  'quant': '45'},\n",
              " '1028': {'exp': '24/06/2023',\n",
              "  'mfg': '24/05/2020',\n",
              "  'name': 'Shampoo',\n",
              "  'price': '90',\n",
              "  'quant': '90'},\n",
              " '1029': {'exp': '04/02/2023',\n",
              "  'mfg': '04/02/2021',\n",
              "  'name': 'Conditioner',\n",
              "  'price': '85',\n",
              "  'quant': '80'},\n",
              " '1030': {'exp': '20/08/2023',\n",
              "  'mfg': '20/08/2021',\n",
              "  'name': 'sanitizer',\n",
              "  'price': '40',\n",
              "  'quant': '110'},\n",
              " '1031': {'exp': '07/07/2023',\n",
              "  'mfg': '07/07/2021',\n",
              "  'name': 'Handwash',\n",
              "  'price': '70',\n",
              "  'quant': '30'},\n",
              " '1032': {'exp': '21/04/2024',\n",
              "  'mfg': '21/04/2021',\n",
              "  'name': 'Bleach',\n",
              "  'price': '55',\n",
              "  'quant': '60'},\n",
              " '1033': {'exp': '14/09/2023',\n",
              "  'mfg': '14/09/2020',\n",
              "  'name': 'Hit',\n",
              "  'price': '90',\n",
              "  'quant': '25'},\n",
              " '1034': {'exp': '23/08/2023',\n",
              "  'mfg': '23/08/2020',\n",
              "  'name': 'Perfume',\n",
              "  'price': '140',\n",
              "  'quant': '79'},\n",
              " '1035': {'exp': '12/12/2023',\n",
              "  'mfg': '12/12/2021',\n",
              "  'name': 'Sunscreen',\n",
              "  'price': '120',\n",
              "  'quant': '50'},\n",
              " '1036': {'exp': '13/06/2023',\n",
              "  'mfg': '13/06/2021',\n",
              "  'name': 'Facemask',\n",
              "  'price': '40',\n",
              "  'quant': '45'},\n",
              " '1037': {'exp': '23/03/2023',\n",
              "  'mfg': '19/09/2020',\n",
              "  'name': 'Eye Liner',\n",
              "  'price': '99',\n",
              "  'quant': '68'},\n",
              " '1038': {'exp': '18/08/2023',\n",
              "  'mfg': '18/08/2021',\n",
              "  'name': 'Serum',\n",
              "  'price': '79',\n",
              "  'quant': '30'},\n",
              " '1039': {'exp': '16/09/2023',\n",
              "  'mfg': '16/09/2020',\n",
              "  'name': 'Mascara',\n",
              "  'price': '45',\n",
              "  'quant': '80'},\n",
              " '1040': {'exp': '12/11/2024',\n",
              "  'mfg': '12/11/2021',\n",
              "  'name': 'Lotion',\n",
              "  'price': '100',\n",
              "  'quant': '90'}}"
            ]
          },
          "metadata": {},
          "execution_count": 54
        }
      ]
    }
  ]
}